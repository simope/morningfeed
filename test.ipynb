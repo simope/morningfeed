{
 "cells": [
  {
   "cell_type": "code",
   "execution_count": 10,
   "metadata": {},
   "outputs": [],
   "source": [
    "import requests\n",
    "from bs4 import BeautifulSoup\n",
    "\n",
    "# Define the URL for the Google News RSS feed\n",
    "# url = 'https://news.google.com/rss?hl=en-GB&gl=GB&ceid=GB:en' # UK\n",
    "url = 'https://news.google.com/rss?hl=it&gl=IT&ceid=IT:it' # Italy\n",
    "\n",
    "# Fetch the XML content using requests\n",
    "response = requests.get(url)\n",
    "\n",
    "# Check if the request was successful\n",
    "if response.status_code == 200:\n",
    "    # Parse the XML content with BeautifulSoup\n",
    "    soup = BeautifulSoup(response.content, 'lxml-xml')\n",
    "\n",
    "    titles = []\n",
    "\n",
    "    # Iterate through each item in the XML\n",
    "    for item in soup.find_all('item'):\n",
    "        titles.append(\n",
    "            {\n",
    "                \"title\": item.title.text,\n",
    "                \"link\": item.link.text\n",
    "            }\n",
    "            )\n",
    "else:\n",
    "    print(f\"Failed to fetch the XML data. Status code: {response.status_code}\")\n"
   ]
  },
  {
   "cell_type": "code",
   "execution_count": 12,
   "metadata": {},
   "outputs": [
    {
     "data": {
      "text/plain": [
       "'https://news.google.com/rss/articles/CBMi3gFBVV95cUxPVTF3YktiX0I4SUJHcW80UjZrd21mNlpBQ2NPZ0xicXF0djZsTG9CQ3AyLVNPOHFnbXppdmVNQmZwV2NzQUdJRFlLRTdOMTYtX2ZVdVZHT2poa1Qzb1RzSlRWVWNWckpkM1VpZC1aTVhTdC0zaGFFYkQyWTBnbElnTzVvVHVFUmtyZmRyMVhjWW1pdzNtMFpBNG9aU29OclBBZEQxOHV3YzZ6LXFfSmVtcEpEYkdxZHpsRHhOaU5nVDFuWUtraUQxU0ZlMDRJamU4TW94cHVsR2k3V09RbXfSAeMBQVVfeXFMTVY2WEliQUpnQ1RBUHpvYlh4ckZuNW9ZUXJIUDhsaTFMWVp6YUNlUEh4Y3hQMzQ2TjZ1Y05kVTJSMEtGMnF0dUwyalpQbHdUQjlMRHRpUGlHLXEwRkZORmotckRNNm5jQlhIV1JEenlzVVRaU0pIUy1iZFNOWTRkSEhuWVFCX3NEVENVT2NDLUlfdFZ4eW5ZZkNnSVB4dG9IWnBHWF9JeFhnYVRzMnAyYTVTa1YxSTJqZWFnczRveHFQaUdiZC0taEFfT2tBYzVKVjBaYmZTYUxmZEMxSHJqQVl1RTg?oc=5'"
      ]
     },
     "execution_count": 12,
     "metadata": {},
     "output_type": "execute_result"
    }
   ],
   "source": [
    "titles[0]['link']"
   ]
  },
  {
   "cell_type": "code",
   "execution_count": null,
   "metadata": {},
   "outputs": [],
   "source": []
  }
 ],
 "metadata": {
  "kernelspec": {
   "display_name": "Python 3",
   "language": "python",
   "name": "python3"
  },
  "language_info": {
   "codemirror_mode": {
    "name": "ipython",
    "version": 3
   },
   "file_extension": ".py",
   "mimetype": "text/x-python",
   "name": "python",
   "nbconvert_exporter": "python",
   "pygments_lexer": "ipython3",
   "version": "3.12.4"
  }
 },
 "nbformat": 4,
 "nbformat_minor": 2
}
